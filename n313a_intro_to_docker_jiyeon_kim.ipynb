{
  "nbformat": 4,
  "nbformat_minor": 0,
  "metadata": {
    "kernelspec": {
      "display_name": "Python 3",
      "language": "python",
      "name": "python3"
    },
    "language_info": {
      "codemirror_mode": {
        "name": "ipython",
        "version": 3
      },
      "file_extension": ".py",
      "mimetype": "text/x-python",
      "name": "python",
      "nbconvert_exporter": "python",
      "pygments_lexer": "ipython3",
      "version": "3.8.3"
    },
    "colab": {
      "name": "n313a-intro-to-docker.ipynb",
      "provenance": [],
      "collapsed_sections": [],
      "toc_visible": true
    }
  },
  "cells": [
    {
      "cell_type": "markdown",
      "metadata": {
        "id": "cmtT3YhvKpvQ"
      },
      "source": [
        "<img src='https://i.imgur.com/RDAD11M.png' width = '200' align = 'right'>\n",
        "\n",
        "## *DATA SCIENCE / UNIT 3 / WEEK 1 / DAY 3*\n",
        "\n",
        "# 📝 Assignment\n",
        "\n",
        "# 파이썬에 대한 다양한 연습과 도커기본 이해를 위한 과제\n",
        "\n",
        "\n",
        "\n"
      ]
    },
    {
      "cell_type": "markdown",
      "metadata": {
        "id": "WLMVE6xQHgcL"
      },
      "source": [
        "### 1) 깃 흐름에 대해서 자유롭게 그림으로 나타내고 각 기능에 대한 설명을 작성해주세요.(이론과제)"
      ]
    },
    {
      "cell_type": "markdown",
      "metadata": {
        "id": "ijmXWFyQcMGb"
      },
      "source": [
        "\n",
        "### 2) 판다스의 DataFrame을 응용해보자. DataFrame 을 이용한 상속 연습(코딩과제)\n",
        "\n",
        "- 하단의 코드를 보면 DataFrame을 import 시켜서 활용했다.\n"
      ]
    },
    {
      "cell_type": "code",
      "metadata": {
        "id": "Hsnef7UdNUUO",
        "outputId": "f4d7135a-4253-496a-b8b2-ef8f4b1e8cf9",
        "colab": {
          "base_uri": "https://localhost:8080/"
        }
      },
      "source": [
        "# DataFrame 활용예시\n",
        "\n",
        "from pandas import DataFrame\n",
        "\n",
        "rawData = {'column0': [1, 2, 3],\n",
        "            'column1': [10, 20, 30]\n",
        "            }\n",
        "\n",
        "data = DataFrame(rawData)\n",
        "print(data)"
      ],
      "execution_count": 3,
      "outputs": [
        {
          "output_type": "stream",
          "text": [
            "   column0  column1\n",
            "0        1       10\n",
            "1        2       20\n",
            "2        3       30\n"
          ],
          "name": "stdout"
        }
      ]
    },
    {
      "cell_type": "markdown",
      "metadata": {
        "id": "0RJ2lVblOz-p"
      },
      "source": [
        "- 위의 코드를 보며 DataFrame의 서브클래스 개념에 대해 찾아보고, 아래에 코드를 추가 작성하시오.\n",
        "- 코드를 작성하는 것도 중요하지만 파이썬에서 제공하는 기본 라이브러리를 상속받는 구조를 파악하는 것이 중요하다.\n",
        "- 소스코드를 작성하기가 어렵다면 의사코드(슈도코드, pseudocode)를 작성해도 좋다.\n",
        "\n",
        "  * 의사코드에 대한 내용참조 : https://ko.wikipedia.org/wiki/%EC%9D%98%EC%82%AC%EC%BD%94%EB%93%9C"
      ]
    },
    {
      "cell_type": "code",
      "metadata": {
        "id": "TuP9Rp4SPER8",
        "outputId": "9d188fc0-2c78-41ed-8f7e-c8dcb00dd20c",
        "colab": {
          "base_uri": "https://localhost:8080/",
          "height": 264
        }
      },
      "source": [
        "# 작성해야 할 소스코드\n",
        "\n",
        "from pandas import DataFrame\n",
        "\n",
        "class SubclassedDataFrame(DataFrame):\n",
        "    def __init__(self, data):\n",
        "        super().__init__(data) # 부모 클래스의 init 가져오기 \n",
        "        self.dataframe = DataFrame(data) \n",
        "\n",
        "\n",
        "data = DataFrame(rawData)\n",
        "print(data)\n",
        "\n",
        "\n",
        "df = SubclassedDataFrame({\n",
        "            'column0': [1, 2, 3], # DataFrame을 상속받은 서브클래스를 활용하여 값을 출력한다.\n",
        "            'column1': [10, 20, 30]\n",
        "            })\n",
        "df"
      ],
      "execution_count": 35,
      "outputs": [
        {
          "output_type": "stream",
          "text": [
            "   column0  column1\n",
            "0        1       10\n",
            "1        2       20\n",
            "2        3       30\n"
          ],
          "name": "stdout"
        },
        {
          "output_type": "stream",
          "text": [
            "/usr/local/lib/python3.6/dist-packages/ipykernel_launcher.py:8: UserWarning: Pandas doesn't allow columns to be created via a new attribute name - see https://pandas.pydata.org/pandas-docs/stable/indexing.html#attribute-access\n",
            "  \n"
          ],
          "name": "stderr"
        },
        {
          "output_type": "execute_result",
          "data": {
            "text/html": [
              "<div>\n",
              "<style scoped>\n",
              "    .dataframe tbody tr th:only-of-type {\n",
              "        vertical-align: middle;\n",
              "    }\n",
              "\n",
              "    .dataframe tbody tr th {\n",
              "        vertical-align: top;\n",
              "    }\n",
              "\n",
              "    .dataframe thead th {\n",
              "        text-align: right;\n",
              "    }\n",
              "</style>\n",
              "<table border=\"1\" class=\"dataframe\">\n",
              "  <thead>\n",
              "    <tr style=\"text-align: right;\">\n",
              "      <th></th>\n",
              "      <th>column0</th>\n",
              "      <th>column1</th>\n",
              "    </tr>\n",
              "  </thead>\n",
              "  <tbody>\n",
              "    <tr>\n",
              "      <th>0</th>\n",
              "      <td>1</td>\n",
              "      <td>10</td>\n",
              "    </tr>\n",
              "    <tr>\n",
              "      <th>1</th>\n",
              "      <td>2</td>\n",
              "      <td>20</td>\n",
              "    </tr>\n",
              "    <tr>\n",
              "      <th>2</th>\n",
              "      <td>3</td>\n",
              "      <td>30</td>\n",
              "    </tr>\n",
              "  </tbody>\n",
              "</table>\n",
              "</div>"
            ],
            "text/plain": [
              "   column0  column1\n",
              "0        1       10\n",
              "1        2       20\n",
              "2        3       30"
            ]
          },
          "metadata": {
            "tags": []
          },
          "execution_count": 35
        }
      ]
    },
    {
      "cell_type": "markdown",
      "metadata": {
        "id": "lb8Fg4utcM9g"
      },
      "source": [
        "\n",
        "### 3) 함수형 프로그래밍에서 OOP 리팩토링(코딩과제)\n"
      ]
    },
    {
      "cell_type": "markdown",
      "metadata": {
        "id": "2E-DkhtVSJHY"
      },
      "source": [
        "- 함수형 코드와 OOP 코드를 비교하고, 함수형 코드를 OOP 형태로 바꿔본다.\n",
        "- 중요한 것은 코드의 형태를 변환시키면서 상황별 코드의 효율성을 파악하는 것이다.\n",
        "\n",
        "* 파이썬 함수형 프로그래밍 참고자료 : \n",
        "  \n",
        "  1) https://www.slideshare.net/wonhoha/pyconkr2018-functional-programming\n",
        "  \n",
        "  2) https://docs.python.org/ko/3/howto/functional.html"
      ]
    },
    {
      "cell_type": "code",
      "metadata": {
        "id": "TsEfe68oSZCW",
        "outputId": "24a7a604-1e1c-441a-c520-afe218561ae3",
        "colab": {
          "base_uri": "https://localhost:8080/"
        }
      },
      "source": [
        "# 함수형 프로그래밍 예시코드 => OOP 형태로 바꿔본다.\n",
        "def add(a,b):\n",
        "  return a+b\n",
        "def minus(a,b):\n",
        "  return a-b\n",
        "\n",
        "a = add(2,4)\n",
        "m = minus(1,0)\n",
        "\n",
        "print(a)\n",
        "print(m)"
      ],
      "execution_count": 37,
      "outputs": [
        {
          "output_type": "stream",
          "text": [
            "6\n",
            "1\n"
          ],
          "name": "stdout"
        }
      ]
    },
    {
      "cell_type": "code",
      "metadata": {
        "id": "vrMCMvT0yCHh",
        "outputId": "3560eca9-84c5-42de-fa68-64ce63a1feae",
        "colab": {
          "base_uri": "https://localhost:8080/"
        }
      },
      "source": [
        "class AddSubtract():\n",
        "    # 인스턴스 생성을 위한 __init__ 메소드\n",
        "    def __init__(self, a, b):\n",
        "      self.a = a\n",
        "      self.b = b\n",
        "    # 더하기 메소드\n",
        "    def add(self):\n",
        "      print(self.a + self.b)\n",
        "    # 빼기 메소드\n",
        "    def subtract(self):\n",
        "      print(self.a - self.b)\n",
        "\n",
        "# 인스턴스 생성\n",
        "number = AddSubtract(1002, 1422)\n",
        "# 더하기 메소드 실행\n",
        "number.add()\n"
      ],
      "execution_count": 52,
      "outputs": [
        {
          "output_type": "stream",
          "text": [
            "2424\n"
          ],
          "name": "stdout"
        }
      ]
    },
    {
      "cell_type": "code",
      "metadata": {
        "id": "kE2DzNiDxPjf",
        "outputId": "2f752c78-9ef6-4f82-be2e-ebb443d559aa",
        "colab": {
          "base_uri": "https://localhost:8080/"
        }
      },
      "source": [
        "# OOP 예시코드\n",
        "class complexTest:\n",
        "  def add(self, a,b):\n",
        "    return a+b\n",
        "  def add2(self, first, second): ## self에 대해서 알아보자.\n",
        "    self.first = first\n",
        "    self.second = second\n",
        "    return first+second\n",
        "\n",
        "c1 = complexTest()\n",
        "\n",
        "print(c1.add2(2,4))\n",
        "print(c1.add(3,4))"
      ],
      "execution_count": 46,
      "outputs": [
        {
          "output_type": "stream",
          "text": [
            "6\n",
            "7\n"
          ],
          "name": "stdout"
        }
      ]
    },
    {
      "cell_type": "code",
      "metadata": {
        "id": "1vi_t7BY2owk",
        "outputId": "c7663249-a589-454f-acd8-872d38ce7bd6",
        "colab": {
          "base_uri": "https://localhost:8080/"
        }
      },
      "source": [
        "# self 자리에 다른 이름 넣어보기\n",
        "class complexTest:\n",
        "  def add(sf, a,b):\n",
        "    return a+b\n",
        "  def add2(sf, first, second): ## self에 대해서 알아보자.\n",
        "    sf.first = first\n",
        "    sf.second = second\n",
        "    return first+second\n",
        "\n",
        "c1 = complexTest()\n",
        "\n",
        "print(c1.add2(2,4))\n",
        "print(c1.add(3,4))"
      ],
      "execution_count": 59,
      "outputs": [
        {
          "output_type": "stream",
          "text": [
            "6\n",
            "7\n"
          ],
          "name": "stdout"
        }
      ]
    },
    {
      "cell_type": "markdown",
      "metadata": {
        "id": "wfOEq8Qtxtt9"
      },
      "source": [
        "- 위에서 add2 함수의 self는 클래스의 함수 선언 시, 첫번째 인자로 필수요건으로 알려져있다.\n",
        "- **위에 self가 필요한 이유에 대해 서술하시고, 코드가 정상작동하도록 수정해주세요(실행결과는 상관없음).**"
      ]
    },
    {
      "cell_type": "markdown",
      "metadata": {
        "id": "ceYTV0yuzdyy"
      },
      "source": [
        "- self는 메소드의 첫 번째 인자로 사용하는데 꼭 self가 아니어도 sf처럼 다른 이름을 넣어도 실행이 되지만 관례적으로, 읽기 좋게 self를 사용한다.\n",
        "- 정의에 따르면 self는 클래스의 인스턴스이다.\n",
        " 예를 들면 \n",
        "1. number = AddSubtract(1002, 1422)이런 식으로 정의되면 number가 AddSubtract 클래스의 인스턴스이다. 그래서 같은 클래스의 메소드를 정의할 때 어떠한 인스턴스도 만들어지기 전일테니 인스턴스명 대신 self를 메소드의 인자로 넣어준다.\n",
        "2. 그래서 AddSubstract 클래스에 subtract()라는 메소드가 있다면 number.subtract() 이렇게 메소드를 사용할 수 있다. 이때 메소드를 사용함에 있어서 메서드의 첫 번째 인자는 메서드를 호출한 인스턴스(number)가 된다. \n",
        "3. 메소드를 실행할 때 메서드를 부른 인스턴스를 받아야 하기 때문에 메서드를 정의내릴 때 def subtract(self): 이렇게 self를 넣어야 한다. self를 넣음으로써 인스턴스를 정의한 후  메소드를 실행할 때 해당 인스턴스가 메소드에 전달되어 메소드가 실행되어진다."
      ]
    },
    {
      "cell_type": "markdown",
      "metadata": {
        "id": "momSw4-ecNoM"
      },
      "source": [
        "\n",
        "### 4) 🔥 도전과제\n",
        "- 도커를 활용한 위 내용을 종합하여 하나의 파일 만드는 과제"
      ]
    }
  ]
}